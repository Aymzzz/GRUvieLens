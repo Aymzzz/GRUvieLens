{
 "cells": [
  {
   "cell_type": "markdown",
   "id": "8ba34ffc",
   "metadata": {},
   "source": [
    "# **GRUvieLens - GRU-Based Sequential RS**"
   ]
  },
  {
   "cell_type": "markdown",
   "id": "5bc46094",
   "metadata": {},
   "source": [
    "## By: SBAI Aymane & KHTIBARI Raoua"
   ]
  },
  {
   "cell_type": "markdown",
   "id": "e178f5ef",
   "metadata": {},
   "source": [
    "# ── Necessary Imports ──"
   ]
  },
  {
   "cell_type": "code",
   "execution_count": 1,
   "id": "ba333de1",
   "metadata": {},
   "outputs": [
    {
     "name": "stderr",
     "output_type": "stream",
     "text": [
      "/home/aymensbai/Desktop/sequential-recommendation/.venv/lib/python3.11/site-packages/tqdm/auto.py:21: TqdmWarning: IProgress not found. Please update jupyter and ipywidgets. See https://ipywidgets.readthedocs.io/en/stable/user_install.html\n",
      "  from .autonotebook import tqdm as notebook_tqdm\n"
     ]
    }
   ],
   "source": [
    "import os\n",
    "import random\n",
    "import math\n",
    "import pandas as pd\n",
    "import numpy as np\n",
    "from collections import defaultdict\n",
    "\n",
    "import torch\n",
    "import torch.nn as nn\n",
    "import torch.nn.functional as F\n",
    "from torch.utils.data import Dataset, DataLoader\n",
    "from transformers import get_cosine_schedule_with_warmup\n",
    "from tqdm import tqdm"
   ]
  },
  {
   "cell_type": "markdown",
   "id": "68e14a7a",
   "metadata": {},
   "source": [
    "# ── SEED & DEVICE SETUP & CONFIGURATION ──"
   ]
  },
  {
   "cell_type": "code",
   "execution_count": 2,
   "id": "679f7134",
   "metadata": {},
   "outputs": [
    {
     "name": "stdout",
     "output_type": "stream",
     "text": [
      "Running on: cuda\n"
     ]
    }
   ],
   "source": [
    "# ── SEED & DEVICE SETUP ──────────────────────────────────────────────────────\n",
    "torch.manual_seed(42)\n",
    "np.random.seed(42)\n",
    "DEVICE = torch.device(\"cuda\" if torch.cuda.is_available() else \"cpu\")\n",
    "print(\"Running on:\", DEVICE)"
   ]
  },
  {
   "cell_type": "code",
   "execution_count": 3,
   "id": "258c6204",
   "metadata": {},
   "outputs": [],
   "source": [
    "# ── CONFIGURATION ────────────────────────────────────────────────────────────\n",
    "class CFG:\n",
    "    path_data     = \"data/ml-1m\"\n",
    "    max_seq_len   = 100\n",
    "    dim_hidden    = 512\n",
    "    n_layers      = 4\n",
    "    dropout_rate  = 0.2\n",
    "    bs            = 1024\n",
    "    n_epochs      = 40\n",
    "    lr            = 1e-3\n",
    "    wd            = 1e-5\n",
    "    n_neg_samples = 100\n",
    "    k_top         = 10\n",
    "\n",
    "cfg = CFG()"
   ]
  },
  {
   "cell_type": "markdown",
   "id": "3974ad7e",
   "metadata": {},
   "source": [
    "# ── DATASET PROCESSING ──"
   ]
  },
  {
   "cell_type": "code",
   "execution_count": 4,
   "id": "a03cfef2",
   "metadata": {},
   "outputs": [],
   "source": [
    "# ── DATASET PROCESSING ───────────────────────────────────────────────────────\n",
    "class MovieLensDatasetBuilder:\n",
    "    def __init__(self, path_data):\n",
    "        file_path = os.path.join(path_data, \"ratings.dat\")\n",
    "        df = pd.read_csv(\n",
    "            file_path, sep=\"::\", engine=\"python\",\n",
    "            names=[\"userId\",\"movieId\",\"rating\",\"timestamp\"],\n",
    "            encoding=\"latin-1\"\n",
    "        )\n",
    "        self.uid2idx = {uid: i for i, uid in enumerate(df.userId.unique())}\n",
    "        self.iid2idx = {iid: i for i, iid in enumerate(df.movieId.unique())}\n",
    "        self.idx2iid = {v+1: k for k, v in self.iid2idx.items()}\n",
    "\n",
    "        df[\"uidx\"] = df.userId.map(self.uid2idx)\n",
    "        df[\"iidx\"] = df.movieId.map(self.iid2idx).add(1)  # pad=0\n",
    "\n",
    "        df = df.sort_values([\"uidx\", \"timestamp\"])\n",
    "        user_histories = defaultdict(list)\n",
    "        for uid, grp in df.groupby(\"uidx\"):\n",
    "            user_histories[uid] = grp[\"iidx\"].tolist()\n",
    "\n",
    "        self.train_sequences = {u: seq[:-1] for u, seq in user_histories.items()}\n",
    "        self.valid_targets   = {u: seq[-1]  for u, seq in user_histories.items()}\n",
    "        self.n_users = len(self.train_sequences)\n",
    "        self.n_items = len(self.iid2idx)\n"
   ]
  },
  {
   "cell_type": "markdown",
   "id": "59731df3",
   "metadata": {},
   "source": [
    "# ── PYTORCH DATASET ──"
   ]
  },
  {
   "cell_type": "code",
   "execution_count": 5,
   "id": "44dd1cbf",
   "metadata": {},
   "outputs": [],
   "source": [
    "# ── PYTORCH DATASET ──────────────────────────────────────────────────────────\n",
    "class MovieSeqDataset(Dataset):\n",
    "    def __init__(self, train_sequences, valid_targets, max_seq_len):\n",
    "        self.user_ids = list(train_sequences.keys())\n",
    "        self.train_sequences = train_sequences\n",
    "        self.valid_targets = valid_targets\n",
    "        self.max_len = max_seq_len\n",
    "\n",
    "    def __len__(self):\n",
    "        return len(self.user_ids)\n",
    "\n",
    "    def __getitem__(self, index):\n",
    "        uid = self.user_ids[index]\n",
    "        sequence = self.train_sequences[uid]\n",
    "        x = sequence[-self.max_len:]\n",
    "        pad_len = self.max_len - len(x)\n",
    "        x = [0] * pad_len + x\n",
    "        y = self.valid_targets[uid]\n",
    "        return torch.LongTensor(x), torch.LongTensor([y])"
   ]
  },
  {
   "cell_type": "markdown",
   "id": "2f4e3dbf",
   "metadata": {},
   "source": [
    "# ── LOAD DATA ──"
   ]
  },
  {
   "cell_type": "code",
   "execution_count": 6,
   "id": "21580834",
   "metadata": {},
   "outputs": [],
   "source": [
    "# ── LOAD DATA ────────────────────────────────────────────────────────────────\n",
    "dataset_builder = MovieLensDatasetBuilder(cfg.path_data)\n",
    "train_data = MovieSeqDataset(dataset_builder.train_sequences, dataset_builder.valid_targets, cfg.max_seq_len)\n",
    "train_loader = DataLoader(\n",
    "    train_data,\n",
    "    batch_size=cfg.bs,\n",
    "    shuffle=True,\n",
    "    num_workers=0,\n",
    "    pin_memory=False\n",
    ")"
   ]
  },
  {
   "cell_type": "markdown",
   "id": "c1d5c645",
   "metadata": {},
   "source": [
    "# ── MODEL ──"
   ]
  },
  {
   "cell_type": "code",
   "execution_count": 7,
   "id": "37b3acf8",
   "metadata": {},
   "outputs": [],
   "source": [
    "# ── MODEL ─────────────────────────────────────────────────────────────────────\n",
    "class GRURecModel(nn.Module):\n",
    "    def __init__(self, n_items, cfg):\n",
    "        super().__init__()\n",
    "        self.item_embed = nn.Embedding(n_items+1, cfg.dim_hidden, padding_idx=0)\n",
    "        self.dropout = nn.Dropout(cfg.dropout_rate)\n",
    "        self.gru = nn.GRU(\n",
    "            input_size=cfg.dim_hidden,\n",
    "            hidden_size=cfg.dim_hidden,\n",
    "            num_layers=cfg.n_layers,\n",
    "            batch_first=True,\n",
    "            dropout=cfg.dropout_rate\n",
    "        )\n",
    "        self.ln = nn.LayerNorm(cfg.dim_hidden)\n",
    "        self.fc = nn.Linear(cfg.dim_hidden, n_items+1)\n",
    "        self.fc.weight = self.item_embed.weight\n",
    "\n",
    "    def forward(self, x):\n",
    "        x = self.dropout(self.item_embed(x))\n",
    "        h, _ = self.gru(x)\n",
    "        h = self.ln(h)\n",
    "        return self.fc(h)\n",
    "\n",
    "model = GRURecModel(dataset_builder.n_items, cfg).to(DEVICE)"
   ]
  },
  {
   "cell_type": "markdown",
   "id": "1f15d79d",
   "metadata": {},
   "source": [
    "# ── TRAINING SETUP & LOOP ──"
   ]
  },
  {
   "cell_type": "code",
   "execution_count": 8,
   "id": "3a8e6dbc",
   "metadata": {},
   "outputs": [],
   "source": [
    "# ── TRAINING SETUP ────────────────────────────────────────────────────────────\n",
    "loss_fn = nn.CrossEntropyLoss(ignore_index=0)\n",
    "optimizer = torch.optim.AdamW(model.parameters(), lr=cfg.lr, weight_decay=cfg.wd)\n",
    "steps_total = cfg.n_epochs * len(train_loader)\n",
    "warmup_steps = int(steps_total * 0.1)\n",
    "lr_scheduler = get_cosine_schedule_with_warmup(optimizer, warmup_steps, steps_total)\n",
    "\n",
    "\n",
    "# ── TRAINING LOOP ─────────────────────────────────────────────────────────────\n",
    "def train_one_epoch():\n",
    "    model.train()\n",
    "    running_loss = 0.0\n",
    "    for x, y in tqdm(train_loader, desc=\"Training\"):\n",
    "        x = x.to(DEVICE)\n",
    "        y = y.squeeze(1).to(DEVICE)\n",
    "\n",
    "        out = model(x)[:, -1, :]\n",
    "        loss = loss_fn(out, y)\n",
    "\n",
    "        optimizer.zero_grad()\n",
    "        loss.backward()\n",
    "        nn.utils.clip_grad_norm_(model.parameters(), 1.0)\n",
    "        optimizer.step()\n",
    "        lr_scheduler.step()\n",
    "\n",
    "        running_loss += loss.item()\n",
    "    return running_loss / len(train_loader)"
   ]
  },
  {
   "cell_type": "markdown",
   "id": "776327d2",
   "metadata": {},
   "source": [
    "# ── EVALUATION + SUBMISSION ──"
   ]
  },
  {
   "cell_type": "code",
   "execution_count": 9,
   "id": "1411a4c3",
   "metadata": {},
   "outputs": [],
   "source": [
    "# ── EVALUATION + SUBMISSION ──────────────────────────────────────────────────\n",
    "def evaluate_and_submit():\n",
    "    model.eval()\n",
    "    total_hit, total_ndcg = 0.0, 0.0\n",
    "    results = []\n",
    "\n",
    "    with torch.no_grad():\n",
    "        for uid in range(dataset_builder.n_users):\n",
    "            seq = dataset_builder.train_sequences[uid]\n",
    "            if len(seq) > cfg.max_seq_len:\n",
    "                seq = seq[-cfg.max_seq_len:]\n",
    "            else:\n",
    "                seq = [0]*(cfg.max_seq_len - len(seq)) + seq\n",
    "            x = torch.LongTensor([seq]).to(DEVICE)\n",
    "\n",
    "            true = dataset_builder.valid_targets[uid]\n",
    "            seen = set(dataset_builder.train_sequences[uid])\n",
    "            pool = [i for i in range(1, dataset_builder.n_items+1) if i not in seen]\n",
    "            candidates = [true] + random.sample(pool, cfg.n_neg_samples)\n",
    "\n",
    "            scores = model(x)[0, -1, candidates]\n",
    "            rank = torch.argsort(torch.argsort(-scores))[0].item()\n",
    "\n",
    "            if rank < cfg.k_top:\n",
    "                total_hit  += 1\n",
    "                total_ndcg += 1.0 / math.log2(rank + 2)\n",
    "\n",
    "            full_scores = model(x)[0, -1, 1:dataset_builder.n_items+1]\n",
    "            top_indices = torch.topk(full_scores, cfg.k_top).indices.cpu() + 1\n",
    "            for item_id in top_indices:\n",
    "                results.append({\n",
    "                    \"userId\": uid + 1,\n",
    "                    \"itemId\": dataset_builder.idx2iid[item_id.item()]\n",
    "                })\n",
    "\n",
    "    pd.DataFrame(results, columns=[\"userId\", \"itemId\"]).to_csv(\"sbai_best_model.csv\", index=False)\n",
    "    return total_hit / dataset_builder.n_users, total_ndcg / dataset_builder.n_users"
   ]
  },
  {
   "cell_type": "markdown",
   "id": "b1f43ab7",
   "metadata": {},
   "source": [
    "# ── MAIN LOOP ──"
   ]
  },
  {
   "cell_type": "code",
   "execution_count": 10,
   "id": "61fe9822",
   "metadata": {},
   "outputs": [
    {
     "name": "stderr",
     "output_type": "stream",
     "text": [
      "Training: 100%|██████████| 6/6 [00:02<00:00,  2.51it/s]\n"
     ]
    },
    {
     "name": "stdout",
     "output_type": "stream",
     "text": [
      "Epoch 01 ▶ Loss: 78.1972 | Hit@10: 0.1520 | NDCG@10: 0.0759\n",
      "Best model is saved\n"
     ]
    },
    {
     "name": "stderr",
     "output_type": "stream",
     "text": [
      "Training: 100%|██████████| 6/6 [00:02<00:00,  2.56it/s]\n"
     ]
    },
    {
     "name": "stdout",
     "output_type": "stream",
     "text": [
      "Epoch 02 ▶ Loss: 59.7890 | Hit@10: 0.2528 | NDCG@10: 0.1450\n",
      "Best model is saved\n"
     ]
    },
    {
     "name": "stderr",
     "output_type": "stream",
     "text": [
      "Training: 100%|██████████| 6/6 [00:02<00:00,  2.44it/s]\n"
     ]
    },
    {
     "name": "stdout",
     "output_type": "stream",
     "text": [
      "Epoch 03 ▶ Loss: 36.6686 | Hit@10: 0.2190 | NDCG@10: 0.1243\n"
     ]
    },
    {
     "name": "stderr",
     "output_type": "stream",
     "text": [
      "Training: 100%|██████████| 6/6 [00:02<00:00,  2.41it/s]\n"
     ]
    },
    {
     "name": "stdout",
     "output_type": "stream",
     "text": [
      "Epoch 04 ▶ Loss: 32.2972 | Hit@10: 0.2202 | NDCG@10: 0.1124\n"
     ]
    },
    {
     "name": "stderr",
     "output_type": "stream",
     "text": [
      "Training: 100%|██████████| 6/6 [00:02<00:00,  2.39it/s]\n"
     ]
    },
    {
     "name": "stdout",
     "output_type": "stream",
     "text": [
      "Epoch 05 ▶ Loss: 29.8379 | Hit@10: 0.2434 | NDCG@10: 0.1474\n",
      "Best model is saved\n"
     ]
    },
    {
     "name": "stderr",
     "output_type": "stream",
     "text": [
      "Training: 100%|██████████| 6/6 [00:02<00:00,  2.38it/s]\n"
     ]
    },
    {
     "name": "stdout",
     "output_type": "stream",
     "text": [
      "Epoch 06 ▶ Loss: 25.3320 | Hit@10: 0.3083 | NDCG@10: 0.1972\n",
      "Best model is saved\n"
     ]
    },
    {
     "name": "stderr",
     "output_type": "stream",
     "text": [
      "Training: 100%|██████████| 6/6 [00:02<00:00,  2.38it/s]\n"
     ]
    },
    {
     "name": "stdout",
     "output_type": "stream",
     "text": [
      "Epoch 07 ▶ Loss: 21.0128 | Hit@10: 0.4040 | NDCG@10: 0.2888\n",
      "Best model is saved\n"
     ]
    },
    {
     "name": "stderr",
     "output_type": "stream",
     "text": [
      "Training: 100%|██████████| 6/6 [00:02<00:00,  2.38it/s]\n"
     ]
    },
    {
     "name": "stdout",
     "output_type": "stream",
     "text": [
      "Epoch 08 ▶ Loss: 17.5699 | Hit@10: 0.5060 | NDCG@10: 0.4004\n",
      "Best model is saved\n"
     ]
    },
    {
     "name": "stderr",
     "output_type": "stream",
     "text": [
      "Training: 100%|██████████| 6/6 [00:02<00:00,  2.39it/s]\n"
     ]
    },
    {
     "name": "stdout",
     "output_type": "stream",
     "text": [
      "Epoch 09 ▶ Loss: 14.5772 | Hit@10: 0.6104 | NDCG@10: 0.5214\n",
      "Best model is saved\n"
     ]
    },
    {
     "name": "stderr",
     "output_type": "stream",
     "text": [
      "Training: 100%|██████████| 6/6 [00:02<00:00,  2.37it/s]\n"
     ]
    },
    {
     "name": "stdout",
     "output_type": "stream",
     "text": [
      "Epoch 10 ▶ Loss: 11.8715 | Hit@10: 0.7046 | NDCG@10: 0.6351\n",
      "Best model is saved\n"
     ]
    },
    {
     "name": "stderr",
     "output_type": "stream",
     "text": [
      "Training: 100%|██████████| 6/6 [00:02<00:00,  2.37it/s]\n"
     ]
    },
    {
     "name": "stdout",
     "output_type": "stream",
     "text": [
      "Epoch 11 ▶ Loss: 9.4821 | Hit@10: 0.7954 | NDCG@10: 0.7426\n",
      "Best model is saved\n"
     ]
    },
    {
     "name": "stderr",
     "output_type": "stream",
     "text": [
      "Training: 100%|██████████| 6/6 [00:02<00:00,  2.37it/s]\n"
     ]
    },
    {
     "name": "stdout",
     "output_type": "stream",
     "text": [
      "Epoch 12 ▶ Loss: 7.3068 | Hit@10: 0.8571 | NDCG@10: 0.8226\n",
      "Best model is saved\n"
     ]
    },
    {
     "name": "stderr",
     "output_type": "stream",
     "text": [
      "Training: 100%|██████████| 6/6 [00:02<00:00,  2.37it/s]\n"
     ]
    },
    {
     "name": "stdout",
     "output_type": "stream",
     "text": [
      "Epoch 13 ▶ Loss: 5.3057 | Hit@10: 0.9235 | NDCG@10: 0.8969\n",
      "Best model is saved\n"
     ]
    },
    {
     "name": "stderr",
     "output_type": "stream",
     "text": [
      "Training: 100%|██████████| 6/6 [00:02<00:00,  2.37it/s]\n"
     ]
    },
    {
     "name": "stdout",
     "output_type": "stream",
     "text": [
      "Epoch 14 ▶ Loss: 3.6863 | Hit@10: 0.9709 | NDCG@10: 0.9564\n",
      "Best model is saved\n"
     ]
    },
    {
     "name": "stderr",
     "output_type": "stream",
     "text": [
      "Training: 100%|██████████| 6/6 [00:02<00:00,  2.37it/s]\n"
     ]
    },
    {
     "name": "stdout",
     "output_type": "stream",
     "text": [
      "Epoch 15 ▶ Loss: 2.3158 | Hit@10: 0.9939 | NDCG@10: 0.9889\n",
      "Best model is saved\n"
     ]
    },
    {
     "name": "stderr",
     "output_type": "stream",
     "text": [
      "Training: 100%|██████████| 6/6 [00:02<00:00,  2.29it/s]\n"
     ]
    },
    {
     "name": "stdout",
     "output_type": "stream",
     "text": [
      "Epoch 16 ▶ Loss: 1.5419 | Hit@10: 0.9987 | NDCG@10: 0.9969\n",
      "Best model is saved\n"
     ]
    },
    {
     "name": "stderr",
     "output_type": "stream",
     "text": [
      "Training: 100%|██████████| 6/6 [00:02<00:00,  2.38it/s]\n"
     ]
    },
    {
     "name": "stdout",
     "output_type": "stream",
     "text": [
      "Epoch 17 ▶ Loss: 1.0773 | Hit@10: 0.9995 | NDCG@10: 0.9988\n",
      "Best model is saved\n"
     ]
    },
    {
     "name": "stderr",
     "output_type": "stream",
     "text": [
      "Training: 100%|██████████| 6/6 [00:02<00:00,  2.36it/s]\n"
     ]
    },
    {
     "name": "stdout",
     "output_type": "stream",
     "text": [
      "Epoch 18 ▶ Loss: 0.7968 | Hit@10: 1.0000 | NDCG@10: 0.9995\n",
      "Best model is saved\n"
     ]
    },
    {
     "name": "stderr",
     "output_type": "stream",
     "text": [
      "Training: 100%|██████████| 6/6 [00:02<00:00,  2.37it/s]\n"
     ]
    },
    {
     "name": "stdout",
     "output_type": "stream",
     "text": [
      "Epoch 19 ▶ Loss: 0.6475 | Hit@10: 1.0000 | NDCG@10: 0.9999\n",
      "Best model is saved\n"
     ]
    },
    {
     "name": "stderr",
     "output_type": "stream",
     "text": [
      "Training: 100%|██████████| 6/6 [00:02<00:00,  2.37it/s]\n"
     ]
    },
    {
     "name": "stdout",
     "output_type": "stream",
     "text": [
      "Epoch 20 ▶ Loss: 0.5346 | Hit@10: 1.0000 | NDCG@10: 0.9998\n"
     ]
    },
    {
     "name": "stderr",
     "output_type": "stream",
     "text": [
      "Training: 100%|██████████| 6/6 [00:02<00:00,  2.37it/s]\n"
     ]
    },
    {
     "name": "stdout",
     "output_type": "stream",
     "text": [
      "Epoch 21 ▶ Loss: 0.4434 | Hit@10: 1.0000 | NDCG@10: 0.9999\n",
      "Best model is saved\n"
     ]
    },
    {
     "name": "stderr",
     "output_type": "stream",
     "text": [
      "Training: 100%|██████████| 6/6 [00:02<00:00,  2.37it/s]\n"
     ]
    },
    {
     "name": "stdout",
     "output_type": "stream",
     "text": [
      "Epoch 22 ▶ Loss: 0.3473 | Hit@10: 1.0000 | NDCG@10: 1.0000\n",
      "Best model is saved\n"
     ]
    },
    {
     "name": "stderr",
     "output_type": "stream",
     "text": [
      "Training: 100%|██████████| 6/6 [00:02<00:00,  2.37it/s]\n"
     ]
    },
    {
     "name": "stdout",
     "output_type": "stream",
     "text": [
      "Epoch 23 ▶ Loss: 0.2991 | Hit@10: 1.0000 | NDCG@10: 1.0000\n"
     ]
    },
    {
     "name": "stderr",
     "output_type": "stream",
     "text": [
      "Training: 100%|██████████| 6/6 [00:02<00:00,  2.38it/s]\n"
     ]
    },
    {
     "name": "stdout",
     "output_type": "stream",
     "text": [
      "Epoch 24 ▶ Loss: 0.2533 | Hit@10: 1.0000 | NDCG@10: 1.0000\n"
     ]
    },
    {
     "name": "stderr",
     "output_type": "stream",
     "text": [
      "Training: 100%|██████████| 6/6 [00:02<00:00,  2.38it/s]\n"
     ]
    },
    {
     "name": "stdout",
     "output_type": "stream",
     "text": [
      "Epoch 25 ▶ Loss: 0.2306 | Hit@10: 1.0000 | NDCG@10: 1.0000\n"
     ]
    },
    {
     "name": "stderr",
     "output_type": "stream",
     "text": [
      "Training: 100%|██████████| 6/6 [00:02<00:00,  2.37it/s]\n"
     ]
    },
    {
     "name": "stdout",
     "output_type": "stream",
     "text": [
      "Epoch 26 ▶ Loss: 0.1822 | Hit@10: 1.0000 | NDCG@10: 1.0000\n"
     ]
    },
    {
     "name": "stderr",
     "output_type": "stream",
     "text": [
      "Training: 100%|██████████| 6/6 [00:02<00:00,  2.37it/s]\n"
     ]
    },
    {
     "name": "stdout",
     "output_type": "stream",
     "text": [
      "Epoch 27 ▶ Loss: 0.1652 | Hit@10: 1.0000 | NDCG@10: 1.0000\n"
     ]
    },
    {
     "name": "stderr",
     "output_type": "stream",
     "text": [
      "Training: 100%|██████████| 6/6 [00:02<00:00,  2.38it/s]\n"
     ]
    },
    {
     "name": "stdout",
     "output_type": "stream",
     "text": [
      "Epoch 28 ▶ Loss: 0.1341 | Hit@10: 1.0000 | NDCG@10: 1.0000\n"
     ]
    },
    {
     "name": "stderr",
     "output_type": "stream",
     "text": [
      "Training: 100%|██████████| 6/6 [00:02<00:00,  2.38it/s]\n"
     ]
    },
    {
     "name": "stdout",
     "output_type": "stream",
     "text": [
      "Epoch 29 ▶ Loss: 0.1226 | Hit@10: 1.0000 | NDCG@10: 1.0000\n"
     ]
    },
    {
     "name": "stderr",
     "output_type": "stream",
     "text": [
      "Training: 100%|██████████| 6/6 [00:02<00:00,  2.37it/s]\n"
     ]
    },
    {
     "name": "stdout",
     "output_type": "stream",
     "text": [
      "Epoch 30 ▶ Loss: 0.0983 | Hit@10: 1.0000 | NDCG@10: 1.0000\n"
     ]
    },
    {
     "name": "stderr",
     "output_type": "stream",
     "text": [
      "Training: 100%|██████████| 6/6 [00:02<00:00,  2.38it/s]\n"
     ]
    },
    {
     "name": "stdout",
     "output_type": "stream",
     "text": [
      "Epoch 31 ▶ Loss: 0.0973 | Hit@10: 1.0000 | NDCG@10: 1.0000\n"
     ]
    },
    {
     "name": "stderr",
     "output_type": "stream",
     "text": [
      "Training: 100%|██████████| 6/6 [00:02<00:00,  2.37it/s]\n"
     ]
    },
    {
     "name": "stdout",
     "output_type": "stream",
     "text": [
      "Epoch 32 ▶ Loss: 0.0684 | Hit@10: 1.0000 | NDCG@10: 1.0000\n"
     ]
    },
    {
     "name": "stderr",
     "output_type": "stream",
     "text": [
      "Training: 100%|██████████| 6/6 [00:02<00:00,  2.28it/s]\n"
     ]
    },
    {
     "name": "stdout",
     "output_type": "stream",
     "text": [
      "Epoch 33 ▶ Loss: 0.0605 | Hit@10: 1.0000 | NDCG@10: 1.0000\n"
     ]
    },
    {
     "name": "stderr",
     "output_type": "stream",
     "text": [
      "Training: 100%|██████████| 6/6 [00:02<00:00,  2.38it/s]\n"
     ]
    },
    {
     "name": "stdout",
     "output_type": "stream",
     "text": [
      "Epoch 34 ▶ Loss: 0.0519 | Hit@10: 1.0000 | NDCG@10: 1.0000\n"
     ]
    },
    {
     "name": "stderr",
     "output_type": "stream",
     "text": [
      "Training: 100%|██████████| 6/6 [00:02<00:00,  2.38it/s]\n"
     ]
    },
    {
     "name": "stdout",
     "output_type": "stream",
     "text": [
      "Epoch 35 ▶ Loss: 0.0458 | Hit@10: 1.0000 | NDCG@10: 1.0000\n"
     ]
    },
    {
     "name": "stderr",
     "output_type": "stream",
     "text": [
      "Training: 100%|██████████| 6/6 [00:02<00:00,  2.39it/s]\n"
     ]
    },
    {
     "name": "stdout",
     "output_type": "stream",
     "text": [
      "Epoch 36 ▶ Loss: 0.0430 | Hit@10: 1.0000 | NDCG@10: 1.0000\n"
     ]
    },
    {
     "name": "stderr",
     "output_type": "stream",
     "text": [
      "Training: 100%|██████████| 6/6 [00:02<00:00,  2.38it/s]\n"
     ]
    },
    {
     "name": "stdout",
     "output_type": "stream",
     "text": [
      "Epoch 37 ▶ Loss: 0.0325 | Hit@10: 1.0000 | NDCG@10: 1.0000\n"
     ]
    },
    {
     "name": "stderr",
     "output_type": "stream",
     "text": [
      "Training: 100%|██████████| 6/6 [00:02<00:00,  2.38it/s]\n"
     ]
    },
    {
     "name": "stdout",
     "output_type": "stream",
     "text": [
      "Epoch 38 ▶ Loss: 0.0368 | Hit@10: 1.0000 | NDCG@10: 1.0000\n"
     ]
    },
    {
     "name": "stderr",
     "output_type": "stream",
     "text": [
      "Training: 100%|██████████| 6/6 [00:02<00:00,  2.37it/s]\n"
     ]
    },
    {
     "name": "stdout",
     "output_type": "stream",
     "text": [
      "Epoch 39 ▶ Loss: 0.0365 | Hit@10: 1.0000 | NDCG@10: 1.0000\n"
     ]
    },
    {
     "name": "stderr",
     "output_type": "stream",
     "text": [
      "Training: 100%|██████████| 6/6 [00:02<00:00,  2.37it/s]\n"
     ]
    },
    {
     "name": "stdout",
     "output_type": "stream",
     "text": [
      "Epoch 40 ▶ Loss: 0.0331 | Hit@10: 1.0000 | NDCG@10: 1.0000\n",
      "Training Complete!\n",
      "Best NDCG@10: 1.0\n"
     ]
    }
   ],
   "source": [
    "# ── MAIN LOOP ─────────────────────────────────────────────────────────────────\n",
    "best_score = 0.0\n",
    "for ep in range(1, cfg.n_epochs + 1):\n",
    "    train_loss = train_one_epoch()\n",
    "    hit, ndcg = evaluate_and_submit()\n",
    "    print(f\"Epoch {ep:02d} ▶ Loss: {train_loss:.4f} | Hit@{cfg.k_top}: {hit:.4f} | NDCG@{cfg.k_top}: {ndcg:.4f}\")\n",
    "    if ndcg > best_score:\n",
    "        best_score = ndcg\n",
    "        torch.save(model.state_dict(), \"best_GRUvieLens_sbai.pth\")\n",
    "        print(\"Best model is saved\")\n",
    "\n",
    "print(\"Training Complete!\")\n",
    "print(\"Best NDCG@10:\", best_score)"
   ]
  }
 ],
 "metadata": {
  "kernelspec": {
   "display_name": ".venv",
   "language": "python",
   "name": "python3"
  },
  "language_info": {
   "codemirror_mode": {
    "name": "ipython",
    "version": 3
   },
   "file_extension": ".py",
   "mimetype": "text/x-python",
   "name": "python",
   "nbconvert_exporter": "python",
   "pygments_lexer": "ipython3",
   "version": "3.11.2"
  }
 },
 "nbformat": 4,
 "nbformat_minor": 5
}
